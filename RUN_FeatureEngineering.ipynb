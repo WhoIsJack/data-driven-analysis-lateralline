{
 "cells": [
  {
   "cell_type": "markdown",
   "metadata": {},
   "source": [
    "## RUN: Feature Engineering\n",
    "\n",
    "This notebook runs the extraction of a bunch of engineered features from segmented cells or ISLA point clouds."
   ]
  },
  {
   "cell_type": "markdown",
   "metadata": {},
   "source": [
    "### Prep"
   ]
  },
  {
   "cell_type": "code",
   "execution_count": null,
   "metadata": {},
   "outputs": [],
   "source": [
    "### Imports\n",
    "\n",
    "# Generic\n",
    "from __future__ import division\n",
    "import os, sys, pickle\n",
    "import numpy as np\n",
    "\n",
    "# Internal\n",
    "from katachi.pipelines import feature_engineering as feat"
   ]
  },
  {
   "cell_type": "code",
   "execution_count": null,
   "metadata": {},
   "outputs": [],
   "source": [
    "### Function to parse relevant IDs from IDR bulk data\n",
    "\n",
    "def parse_from_IDR(dir_path, target):\n",
    "    \n",
    "    # Get all samples\n",
    "    samples = [d for d in os.listdir(dir_path) if len(d)==10\n",
    "               and os.path.isdir(os.path.join(dir_path, d))]\n",
    "    \n",
    "    # Select relevant samples\n",
    "    relevant_samples = []\n",
    "    for d in samples:\n",
    "        \n",
    "        # Get image files\n",
    "        images = [i for i in os.listdir(os.path.join(dir_path, d))\n",
    "                  if i.startswith(d) and i.endswith('.tif')]\n",
    "        \n",
    "        # Special case for membranes only\n",
    "        if target=='membranes_only':\n",
    "            if all(['lynEGFP' in img for img in images]):\n",
    "                relevant_samples.append(d)\n",
    "            \n",
    "        # All other cases\n",
    "        else:\n",
    "            if any([img.endswith(target+'.tif') for img in images]):\n",
    "                relevant_samples.append(d)\n",
    "    \n",
    "    return relevant_samples"
   ]
  },
  {
   "cell_type": "markdown",
   "metadata": {},
   "source": [
    "### Feature Engineering for `cldnB:lyn-EGFP`"
   ]
  },
  {
   "cell_type": "code",
   "execution_count": null,
   "metadata": {},
   "outputs": [],
   "source": [
    "# Target directory\n",
    "dir_path = r'data\\experimentA\\image_data'\n",
    "\n",
    "# Parse relevant IDs from IDR bulk data\n",
    "relevant_samples = parse_from_IDR(dir_path, 'membranes_only')\n",
    "print \"Found %i relevant samples!\" % len(relevant_samples)\n",
    "\n",
    "# Additional arguments  \n",
    "channels = [\"seg\"]\n",
    "\n",
    "# Run segmentation pipeline\n",
    "feat.feature_engineering(dir_path, channels, \n",
    "                         IDs=relevant_samples,\n",
    "                         overwrite_previous=True,\n",
    "                         recurse=True, processes=14, \n",
    "                         profiling=True, verbose=True)"
   ]
  },
  {
   "cell_type": "markdown",
   "metadata": {},
   "source": [
    "### Feature Engineering for `cldnB:lyn-EGFP + cxcr4b:NLS-tdTomato`"
   ]
  },
  {
   "cell_type": "code",
   "execution_count": null,
   "metadata": {},
   "outputs": [],
   "source": [
    "# Target directory\n",
    "dir_path = r'data\\experimentA\\image_data'\n",
    "\n",
    "# Parse relevant IDs from IDR bulk data\n",
    "relevant_samples = parse_from_IDR(dir_path, 'NLStdTomato')\n",
    "print \"Found %i relevant samples!\" % len(relevant_samples)\n",
    "\n",
    "# Additional arguments  \n",
    "channels = [\"seg\", \"NLStdTomato\"]\n",
    "\n",
    "# Run segmentation pipeline\n",
    "cov.covariate_extraction(dir_path, channels,\n",
    "                         IDs=relevant_samples,\n",
    "                         overwrite_previous=True,\n",
    "                         processes=1,  # For some reason, this stalled when multiprocessed!\n",
    "                         recurse=True, \n",
    "                         profiling=True, verbose=True)"
   ]
  },
  {
   "cell_type": "markdown",
   "metadata": {},
   "source": [
    "### Feature Engineering for `cldnB:lyn-EGFP + Actb2:mKate-Rab11a`"
   ]
  },
  {
   "cell_type": "code",
   "execution_count": null,
   "metadata": {},
   "outputs": [],
   "source": [
    "# Target directory\n",
    "dir_path = r'data\\experimentA\\image_data'\n",
    "\n",
    "# Parse relevant IDs from IDR bulk data\n",
    "relevant_samples = parse_from_IDR(dir_path, 'mKate2rab11')\n",
    "print \"Found %i relevant samples!\" % len(relevant_samples)\n",
    "\n",
    "# Additional arguments  \n",
    "channels = [\"seg\", \"mKate2rab11\"]\n",
    "\n",
    "# Run segmentation pipeline\n",
    "cov.covariate_extraction(dir_path, channels,\n",
    "                         IDs=relevant_samples,\n",
    "                         overwrite_previous=True,\n",
    "                         recurse=True, processes=14, \n",
    "                         profiling=True, verbose=True)"
   ]
  },
  {
   "cell_type": "markdown",
   "metadata": {},
   "source": [
    "### Feature Engineering for `cldnB:lyn-EGFP + RNA:mKate2-Rab5a`"
   ]
  },
  {
   "cell_type": "code",
   "execution_count": null,
   "metadata": {},
   "outputs": [],
   "source": [
    "# Target directory\n",
    "dir_path = r'data\\experimentA\\image_data'\n",
    "\n",
    "# Parse relevant IDs from IDR bulk data\n",
    "relevant_samples = parse_from_IDR(dir_path, 'mKate2rab5')\n",
    "print \"Found %i relevant samples!\" % len(relevant_samples)\n",
    "\n",
    "# Additional arguments  \n",
    "channels = [\"seg\", \"mKate2rab5\"]\n",
    "\n",
    "# Run segmentation pipeline\n",
    "cov.covariate_extraction(dir_path, channels,\n",
    "                         IDs=relevant_samples,\n",
    "                         overwrite_previous=True,\n",
    "                         recurse=True, processes=14, \n",
    "                         profiling=True, verbose=True)"
   ]
  },
  {
   "cell_type": "markdown",
   "metadata": {},
   "source": [
    "### Feature Engineering for `cldnB:lyn-EGFP + RNA:mKate2-GM130(rat)`"
   ]
  },
  {
   "cell_type": "code",
   "execution_count": null,
   "metadata": {},
   "outputs": [],
   "source": [
    "# Target directory\n",
    "dir_path = r'data\\experimentA\\image_data'\n",
    "\n",
    "# Parse relevant IDs from IDR bulk data\n",
    "relevant_samples = parse_from_IDR(dir_path, 'mKate2GM130')\n",
    "print \"Found %i relevant samples!\" % len(relevant_samples)\n",
    "\n",
    "# Additional arguments  \n",
    "channels = [\"seg\", \"mKate2GM130\"]\n",
    "\n",
    "# Run segmentation pipeline\n",
    "cov.covariate_extraction(dir_path, channels,\n",
    "                         IDs=relevant_samples,\n",
    "                         overwrite_previous=True,\n",
    "                         recurse=True, processes=14, \n",
    "                         profiling=True, verbose=True)"
   ]
  },
  {
   "cell_type": "markdown",
   "metadata": {},
   "source": [
    "### Feature Engineering for `cldnB:lyn-EGFP + lexOP:CDMPR-tagRFPt`"
   ]
  },
  {
   "cell_type": "code",
   "execution_count": null,
   "metadata": {},
   "outputs": [],
   "source": [
    "# Target directory\n",
    "dir_path = r'data\\experimentA\\image_data'\n",
    "\n",
    "# Parse relevant IDs from IDR bulk data\n",
    "relevant_samples = parse_from_IDR(dir_path, 'CDMPRtagRFPt')\n",
    "print \"Found %i relevant samples!\" % len(relevant_samples)\n",
    "\n",
    "# Additional arguments  \n",
    "channels = [\"seg\", \"CDMPRtagRFPt\"]\n",
    "\n",
    "# Run segmentation pipeline\n",
    "cov.covariate_extraction(dir_path, channels,\n",
    "                         IDs=relevant_samples,\n",
    "                         overwrite_previous=True,\n",
    "                         recurse=True, processes=14,\n",
    "                         profiling=True, verbose=True)"
   ]
  },
  {
   "cell_type": "markdown",
   "metadata": {},
   "source": [
    "### Feature Engineering for `cldnB:lyn-EGFP + LexOP:B4GalT1(1-55Q)-tagRFPt`"
   ]
  },
  {
   "cell_type": "code",
   "execution_count": null,
   "metadata": {},
   "outputs": [],
   "source": [
    "# Target directory\n",
    "dir_path = r'data\\experimentA\\image_data'\n",
    "\n",
    "# Parse relevant IDs from IDR bulk data\n",
    "relevant_samples = parse_from_IDR(dir_path, 'b4galT1tagRFPt')\n",
    "print \"Found %i relevant samples!\" % len(relevant_samples)\n",
    "\n",
    "# Additional arguments  \n",
    "channels = [\"seg\", \"b4galT1tagRFPt\"]\n",
    "\n",
    "# Run segmentation pipeline\n",
    "cov.covariate_extraction(dir_path, channels,\n",
    "                         IDs=relevant_samples,\n",
    "                         overwrite_previous=True,\n",
    "                         recurse=True, processes=14, \n",
    "                         profiling=True, verbose=True)"
   ]
  },
  {
   "cell_type": "markdown",
   "metadata": {},
   "source": [
    "### Feature Engineering for `cldnB:lyn-EGFP + atoh1a:dtomato`"
   ]
  },
  {
   "cell_type": "code",
   "execution_count": null,
   "metadata": {},
   "outputs": [],
   "source": [
    "# Target directory\n",
    "dir_path = r'data\\experimentA\\image_data'\n",
    "\n",
    "# Parse relevant IDs from IDR bulk data\n",
    "relevant_samples = parse_from_IDR(dir_path, 'atoh1a')\n",
    "print \"Found %i relevant samples!\" % len(relevant_samples)\n",
    "\n",
    "# Additional arguments  \n",
    "channels = [\"seg\"]\n",
    "\n",
    "# Run segmentation pipeline\n",
    "cov.covariate_extraction(dir_path, channels,\n",
    "                         IDs=relevant_samples,\n",
    "                         overwrite_previous=True,\n",
    "                         recurse=True, processes=14, \n",
    "                         profiling=True, verbose=True)\n",
    "\n",
    "# Additional arguments  \n",
    "channels = [\"atoh1a\"]\n",
    "\n",
    "# Run segmentation pipeline\n",
    "cov.covariate_extraction(dir_path, channels,\n",
    "                         IDs=relevant_samples,\n",
    "                         no_lms=True,\n",
    "                         recurse=True, processes=14, \n",
    "                         profiling=True, verbose=True)"
   ]
  },
  {
   "cell_type": "markdown",
   "metadata": {},
   "source": [
    "### Feature Engineering for `cldnB:lyn-EGFP + 6xUAS:tagRFPt-UtrCH`"
   ]
  },
  {
   "cell_type": "code",
   "execution_count": null,
   "metadata": {},
   "outputs": [],
   "source": [
    "# Target directory\n",
    "dir_path = r'data\\experimentA\\image_data'\n",
    "\n",
    "# Parse relevant IDs from IDR bulk data\n",
    "relevant_samples = parse_from_IDR(dir_path, 'tagRFPtUtrCH')\n",
    "print \"Found %i relevant samples!\" % len(relevant_samples)\n",
    "\n",
    "# Additional arguments  \n",
    "channels = [\"seg\", \"tagRFPtUtrCH\"]\n",
    "\n",
    "# Run segmentation pipeline\n",
    "cov.covariate_extraction(dir_path, channels,\n",
    "                         IDs=relevant_samples,\n",
    "                         overwrite_previous=True,\n",
    "                         recurse=True, processes=14, \n",
    "                         profiling=True, verbose=True)"
   ]
  },
  {
   "cell_type": "markdown",
   "metadata": {},
   "source": [
    "### Feature Engineering for `cldnB:lyn-EGFP + LysoTracker Deep Red`"
   ]
  },
  {
   "cell_type": "code",
   "execution_count": null,
   "metadata": {},
   "outputs": [],
   "source": [
    "# Target directory\n",
    "dir_path = r'data\\experimentA\\image_data'\n",
    "\n",
    "# Parse relevant IDs from IDR bulk data\n",
    "relevant_samples = parse_from_IDR(dir_path, 'lysotrackerdeepred')\n",
    "print \"Found %i relevant samples!\" % len(relevant_samples)\n",
    "\n",
    "# Additional arguments  \n",
    "channels = [\"seg\", \"lysotrackerdeepred\"]\n",
    "\n",
    "# Run segmentation pipeline\n",
    "cov.covariate_extraction(dir_path, channels,\n",
    "                         IDs=relevant_samples,\n",
    "                         overwrite_previous=True,\n",
    "                         recurse=True, processes=14, \n",
    "                         profiling=True, verbose=True)"
   ]
  },
  {
   "cell_type": "markdown",
   "metadata": {},
   "source": [
    "### Feature Engineering for `pea3 smFISH`"
   ]
  },
  {
   "cell_type": "code",
   "execution_count": null,
   "metadata": {},
   "outputs": [],
   "source": [
    "# Target directory\n",
    "dir_path = r'data\\experimentB\\image_data'\n",
    "\n",
    "# Parse relevant IDs from IDR bulk data\n",
    "relevant_samples = parse_from_IDR(dir_path, 'pea3smFISH')\n",
    "print \"Found %i relevant samples!\" % len(relevant_samples)\n",
    "\n",
    "# Additional arguments  \n",
    "channels = [\"seg\"]\n",
    "\n",
    "# Run segmentation pipeline\n",
    "cov.covariate_extraction(dir_path, channels,\n",
    "                         IDs=relevant_samples,\n",
    "                         overwrite_previous=True,\n",
    "                         recurse=True, processes=14,\n",
    "                         profiling=True, verbose=True)"
   ]
  }
 ],
 "metadata": {
  "kernelspec": {
   "display_name": "Python 2",
   "language": "python",
   "name": "python2"
  },
  "language_info": {
   "codemirror_mode": {
    "name": "ipython",
    "version": 2
   },
   "file_extension": ".py",
   "mimetype": "text/x-python",
   "name": "python",
   "nbconvert_exporter": "python",
   "pygments_lexer": "ipython2",
   "version": "2.7.13"
  }
 },
 "nbformat": 4,
 "nbformat_minor": 2
}
