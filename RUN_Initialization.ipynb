{
 "cells": [
  {
   "cell_type": "markdown",
   "metadata": {},
   "source": [
    "## RUN: Initialization\n",
    "\n",
    "This notebook prepares image data for the rest of the pipeline by assigning unique IDs, splitting channels and generating a metadata file. \n",
    "\n",
    "For data downloaded from the IDR repo, only metadata file generation is necessary."
   ]
  },
  {
   "cell_type": "markdown",
   "metadata": {},
   "source": [
    "### Prep"
   ]
  },
  {
   "cell_type": "code",
   "execution_count": null,
   "metadata": {},
   "outputs": [],
   "source": [
    "### Imports\n",
    "\n",
    "# Generic\n",
    "from __future__ import division\n",
    "import os, sys, pickle\n",
    "import numpy as np\n",
    "\n",
    "# Internal\n",
    "from katachi.pipelines import initialization as init"
   ]
  },
  {
   "cell_type": "code",
   "execution_count": null,
   "metadata": {},
   "outputs": [],
   "source": [
    "### Function to parse relevant samples from IDR bulk data\n",
    "\n",
    "def parse_from_IDR(dir_path, target):\n",
    "    \n",
    "    # Get all samples\n",
    "    samples = [d for d in os.listdir(dir_path) if len(d)==10\n",
    "               and os.path.isdir(os.path.join(dir_path, d))]\n",
    "    \n",
    "    # Select relevant samples\n",
    "    relevant_samples = []\n",
    "    for d in samples:\n",
    "        \n",
    "        # Get image files\n",
    "        images = [i for i in os.listdir(os.path.join(dir_path, d))\n",
    "                  if i.startswith(d) and i.endswith('.tif')]\n",
    "        \n",
    "        # Special case for membranes only\n",
    "        if target=='membranes_only':\n",
    "            if all(['lynEGFP' in img for img in images]):\n",
    "                relevant_samples.append(d)\n",
    "            \n",
    "        # All other cases\n",
    "        else:\n",
    "            if any([img.endswith(target+'.tif') for img in images]):\n",
    "                relevant_samples.append(d)\n",
    "    \n",
    "    return relevant_samples"
   ]
  },
  {
   "cell_type": "markdown",
   "metadata": {},
   "source": [
    "### Initialize `cldnB:lyn-EGFP`"
   ]
  },
  {
   "cell_type": "code",
   "execution_count": null,
   "metadata": {
    "scrolled": true
   },
   "outputs": [],
   "source": [
    "# Target directory\n",
    "dir_path = r'data\\experimentA\\image_data'\n",
    "\n",
    "# Parse relevant samples from IDR bulk data\n",
    "relevant_samples = parse_from_IDR(dir_path, 'membranes_only')\n",
    "print \"Found %i relevant samples!\" % len(relevant_samples)\n",
    "    \n",
    "# Additional arguments\n",
    "id_path      = r'other/IDs.txt'\n",
    "fname_suffix =  \"_8bit.tif\"\n",
    "meta_dict    = {'channels'   : ['lynEGFP'],\n",
    "                'resolution' : [0.225, 0.099, 0.099],\n",
    "                'date'       : '20180726',\n",
    "                'microscope' : 'ZEISS-LSM880-AIRY-FAST',\n",
    "                'condition'  : 'wild-type',\n",
    "                'notes'      : '_none_'}\n",
    "\n",
    "# Run initialization pipeline\n",
    "init.initialize_dir(dir_path, id_path, meta_dict,\n",
    "                    IDR_data=True, IDR_IDs=relevant_samples,\n",
    "                    ignore_old=False, verbose=True)"
   ]
  },
  {
   "cell_type": "markdown",
   "metadata": {},
   "source": [
    "### Initialize `cldnB:lyn-EGFP + cxcr4b:NLS-tdTomato`"
   ]
  },
  {
   "cell_type": "code",
   "execution_count": null,
   "metadata": {},
   "outputs": [],
   "source": [
    "# Target directory\n",
    "dir_path = r'data\\experimentA\\image_data'\n",
    "\n",
    "# Parse relevant samples from IDR bulk data\n",
    "relevant_samples = parse_from_IDR(dir_path, 'NLStdTomato')\n",
    "print \"Found %i relevant samples!\" % len(relevant_samples)\n",
    "    \n",
    "# Additional arguments\n",
    "id_path      = r'other/IDs.txt'\n",
    "fname_suffix =  \"_8bit.tif\"\n",
    "meta_dict    = {'channels'   : ['lynEGFP', 'NLStdTomato'],\n",
    "                'resolution' : [0.225, 0.102, 0.102],\n",
    "                'date'       : '20161222',\n",
    "                'microscope' : 'ZEISS-LSM880-AIRY-FAST',\n",
    "                'condition'  : 'wild-type',\n",
    "                'notes'      : '_none_'}\n",
    "\n",
    "# Run initialization pipeline\n",
    "init.initialize_dir(dir_path, id_path, meta_dict,\n",
    "                    IDR_data=True, IDR_IDs=relevant_samples,\n",
    "                    ignore_old=False, verbose=True)"
   ]
  },
  {
   "cell_type": "markdown",
   "metadata": {},
   "source": [
    "### Initialize `cldnB:lyn-EGFP + Actb2:mKate-Rab11a`"
   ]
  },
  {
   "cell_type": "code",
   "execution_count": null,
   "metadata": {},
   "outputs": [],
   "source": [
    "# Target directory\n",
    "dir_path = r'data\\experimentA\\image_data'\n",
    "\n",
    "# Parse relevant samples from IDR bulk data\n",
    "relevant_samples = parse_from_IDR(dir_path, 'mKate2rab11')\n",
    "print \"Found %i relevant samples!\" % len(relevant_samples)\n",
    "    \n",
    "# Additional arguments\n",
    "id_path      = r'other/IDs.txt'\n",
    "fname_suffix =  \"_8bit.tif\"\n",
    "meta_dict    = {'channels'   : ['lynEGFP', 'mKate2rab11'],\n",
    "                'resolution' : [0.225, 0.099, 0.099],\n",
    "                'date'       : '20170906',\n",
    "                'microscope' : 'ZEISS-LSM880-AIRY-FAST',\n",
    "                'condition'  : 'wild-type',\n",
    "                'notes'      : '_none_'}\n",
    "\n",
    "# Run initialization pipeline\n",
    "init.initialize_dir(dir_path, id_path, meta_dict,\n",
    "                    IDR_data=True, IDR_IDs=relevant_samples,\n",
    "                    ignore_old=False, verbose=True)"
   ]
  },
  {
   "cell_type": "markdown",
   "metadata": {},
   "source": [
    "### Initialize `cldnB:lyn-EGFP + RNA:mKate2-Rab5a`"
   ]
  },
  {
   "cell_type": "code",
   "execution_count": null,
   "metadata": {},
   "outputs": [],
   "source": [
    "# Target directory\n",
    "dir_path = r'data\\experimentA\\image_data'\n",
    "\n",
    "# Parse relevant samples from IDR bulk data\n",
    "relevant_samples = parse_from_IDR(dir_path, 'mKate2rab5')\n",
    "print \"Found %i relevant samples!\" % len(relevant_samples)\n",
    "    \n",
    "# Additional arguments\n",
    "id_path      = r'other/IDs.txt'\n",
    "fname_suffix =  \"_8bit.tif\"\n",
    "meta_dict    = {'channels'   : ['lynEGFP', 'mKate2rab5'],\n",
    "                'resolution' : [0.225, 0.099, 0.099],\n",
    "                'date'       : '20171014',\n",
    "                'microscope' : 'ZEISS-LSM880-AIRY-FAST',\n",
    "                'condition'  : 'wild-type',\n",
    "                'notes'      : '_none_'}\n",
    "\n",
    "# Run initialization pipeline\n",
    "init.initialize_dir(dir_path, id_path, meta_dict,\n",
    "                    IDR_data=True, IDR_IDs=relevant_samples,\n",
    "                    ignore_old=False, verbose=True)"
   ]
  },
  {
   "cell_type": "markdown",
   "metadata": {},
   "source": [
    "### Initialize `cldnB:lyn-EGFP + RNA:mKate2-GM130(rat)`"
   ]
  },
  {
   "cell_type": "code",
   "execution_count": null,
   "metadata": {},
   "outputs": [],
   "source": [
    "# Target directory\n",
    "dir_path = r'data\\experimentA\\image_data'\n",
    "\n",
    "# Parse relevant samples from IDR bulk data\n",
    "relevant_samples = parse_from_IDR(dir_path, 'mKate2GM130')\n",
    "print \"Found %i relevant samples!\" % len(relevant_samples)\n",
    "    \n",
    "# Additional arguments\n",
    "id_path      = r'other/IDs.txt'\n",
    "fname_suffix =  \"_8bit.tif\"\n",
    "meta_dict    = {'channels'   : ['lynEGFP', 'mKate2GM130'],\n",
    "                'resolution' : [0.225, 0.099, 0.099],\n",
    "                'date'       : '20170930',\n",
    "                'microscope' : 'ZEISS-LSM880-AIRY-FAST',\n",
    "                'condition'  : 'wild-type',\n",
    "                'notes'      : '_none_'}\n",
    "\n",
    "# Run initialization pipeline\n",
    "init.initialize_dir(dir_path, id_path, meta_dict,\n",
    "                    IDR_data=True, IDR_IDs=relevant_samples,\n",
    "                    ignore_old=False, verbose=True)"
   ]
  },
  {
   "cell_type": "markdown",
   "metadata": {},
   "source": [
    "### Initialize `cldnB:lyn-EGFP + lexOP:CDMPR-tagRFPt`"
   ]
  },
  {
   "cell_type": "code",
   "execution_count": null,
   "metadata": {},
   "outputs": [],
   "source": [
    "# Target directory\n",
    "dir_path = r'data\\experimentA\\image_data'\n",
    "\n",
    "# Parse relevant samples from IDR bulk data\n",
    "relevant_samples = parse_from_IDR(dir_path, 'CDMPRtagRFPt')\n",
    "print \"Found %i relevant samples!\" % len(relevant_samples)\n",
    "    \n",
    "# Additional arguments\n",
    "id_path      = r'other/IDs.txt'\n",
    "fname_suffix =  \"_8bit.tif\"\n",
    "meta_dict    = {'channels'   : ['lynEGFP', 'CDMPRtagRFPt'],\n",
    "                'resolution' : [0.225, 0.099, 0.099],\n",
    "                'date'       : '20171212',\n",
    "                'microscope' : 'ZEISS-LSM880-AIRY-FAST',\n",
    "                'condition'  : 'wild-type',\n",
    "                'notes'      : '_none_'}\n",
    "\n",
    "# Run initialization pipeline\n",
    "init.initialize_dir(dir_path, id_path, meta_dict,\n",
    "                    IDR_data=True, IDR_IDs=relevant_samples,\n",
    "                    ignore_old=False, verbose=True)"
   ]
  },
  {
   "cell_type": "markdown",
   "metadata": {},
   "source": [
    "### Initialize `cldnB:lyn-EGFP + LexOP:B4GalT1(1-55Q)-tagRFPt`"
   ]
  },
  {
   "cell_type": "code",
   "execution_count": null,
   "metadata": {},
   "outputs": [],
   "source": [
    "# Target directory\n",
    "dir_path = r'data\\experimentA\\image_data'\n",
    "\n",
    "# Parse relevant samples from IDR bulk data\n",
    "relevant_samples = parse_from_IDR(dir_path, 'b4galT1tagRFPt')\n",
    "print \"Found %i relevant samples!\" % len(relevant_samples)\n",
    "    \n",
    "# Additional arguments\n",
    "id_path      = r'other/IDs.txt'\n",
    "fname_suffix =  \"_8bit.tif\"\n",
    "meta_dict    = {'channels'   : ['lynEGFP', 'b4galT1tagRFPt'],\n",
    "                'resolution' : [0.225, 0.099, 0.099],\n",
    "                'date'       : '20171211',\n",
    "                'microscope' : 'ZEISS-LSM880-AIRY-FAST',\n",
    "                'condition'  : 'wild-type',\n",
    "                'notes'      : '_none_'}\n",
    "\n",
    "# Run initialization pipeline\n",
    "init.initialize_dir(dir_path, id_path, meta_dict,\n",
    "                    IDR_data=True, IDR_IDs=relevant_samples,\n",
    "                    ignore_old=False, verbose=True)"
   ]
  },
  {
   "cell_type": "markdown",
   "metadata": {},
   "source": [
    "### Initialize `cldnB:lyn-EGFP + atoh1a:dtomato`"
   ]
  },
  {
   "cell_type": "code",
   "execution_count": null,
   "metadata": {},
   "outputs": [],
   "source": [
    "# Target directory\n",
    "dir_path = r'data\\experimentA\\image_data'\n",
    "\n",
    "# Parse relevant samples from IDR bulk data\n",
    "relevant_samples = parse_from_IDR(dir_path, 'atoh1a')\n",
    "print \"Found %i relevant samples!\" % len(relevant_samples)\n",
    "    \n",
    "# Additional arguments\n",
    "id_path      = r'other/IDs.txt'\n",
    "fname_suffix =  \"_8bit.tif\"\n",
    "meta_dict    = {'channels'   : ['lynEGFP', 'atoh1a'],\n",
    "                'resolution' : [0.225, 0.099, 0.099],\n",
    "                'date'       : '20170406',\n",
    "                'microscope' : 'ZEISS-LSM880-AIRY-FAST',\n",
    "                'condition'  : 'wild-type',\n",
    "                'notes'      : '_none_'}\n",
    "\n",
    "# Run initialization pipeline\n",
    "init.initialize_dir(dir_path, id_path, meta_dict,\n",
    "                    IDR_data=True, IDR_IDs=relevant_samples,\n",
    "                    ignore_old=False, verbose=True)"
   ]
  },
  {
   "cell_type": "markdown",
   "metadata": {},
   "source": [
    "### Initialize `cldnB:lyn-EGFP + 6xUAS:tagRFPt-UtrCH`"
   ]
  },
  {
   "cell_type": "code",
   "execution_count": null,
   "metadata": {},
   "outputs": [],
   "source": [
    "# Target directory\n",
    "dir_path = r'data\\experimentA\\image_data'\n",
    "\n",
    "# Parse relevant samples from IDR bulk data\n",
    "relevant_samples = parse_from_IDR(dir_path, 'tagRFPtUtrCH')\n",
    "print \"Found %i relevant samples!\" % len(relevant_samples)\n",
    "    \n",
    "# Additional arguments\n",
    "id_path      = r'other/IDs.txt'\n",
    "fname_suffix =  \"_8bit.tif\"\n",
    "meta_dict    = {'channels'   : ['lynEGFP', 'tagRFPtUtrCH'],\n",
    "                'resolution' : [0.225, 0.102, 0.102],\n",
    "                'date'       : '20161222',\n",
    "                'microscope' : 'ZEISS-LSM880-AIRY-FAST',\n",
    "                'condition'  : 'wild-type',\n",
    "                'notes'      : '_none_'}\n",
    "\n",
    "# Run initialization pipeline\n",
    "init.initialize_dir(dir_path, id_path, meta_dict,\n",
    "                    IDR_data=True, IDR_IDs=relevant_samples,\n",
    "                    ignore_old=False, verbose=True)"
   ]
  },
  {
   "cell_type": "markdown",
   "metadata": {},
   "source": [
    "### Initialize `cldnB:lyn-EGFP + LysoTracker Deep Red`"
   ]
  },
  {
   "cell_type": "code",
   "execution_count": null,
   "metadata": {},
   "outputs": [],
   "source": [
    "# Target directory\n",
    "dir_path = r'data\\experimentA\\image_data'\n",
    "\n",
    "# Parse relevant samples from IDR bulk data\n",
    "relevant_samples = parse_from_IDR(dir_path, 'lysotrackerdeepred')\n",
    "print \"Found %i relevant samples!\" % len(relevant_samples)\n",
    "    \n",
    "# Additional arguments\n",
    "id_path      = r'other/IDs.txt'\n",
    "fname_suffix =  \"_8bit.tif\"\n",
    "meta_dict    = {'channels'   : ['lynEGFP', 'lysotrackerdeepred'],\n",
    "                'resolution' : [0.225, 0.099, 0.099],\n",
    "                'date'       : '20170906',\n",
    "                'microscope' : 'ZEISS-LSM880-AIRY-FAST',\n",
    "                'condition'  : 'wild-type',\n",
    "                'notes'      : '_none_'}\n",
    "\n",
    "# Run initialization pipeline\n",
    "init.initialize_dir(dir_path, id_path, meta_dict,\n",
    "                    IDR_data=True, IDR_IDs=relevant_samples,\n",
    "                    ignore_old=False, verbose=True)"
   ]
  },
  {
   "cell_type": "markdown",
   "metadata": {},
   "source": [
    "### Initialize `pea3 smFISH`"
   ]
  },
  {
   "cell_type": "code",
   "execution_count": null,
   "metadata": {},
   "outputs": [],
   "source": [
    "# Target directory\n",
    "dir_path = r'data\\experimentB\\image_data'\n",
    "\n",
    "# Parse relevant samples from IDR bulk data\n",
    "relevant_samples = parse_from_IDR(dir_path, 'pea3smFISH')\n",
    "print \"Found %i relevant samples!\" % len(relevant_samples)\n",
    "    \n",
    "# Additional arguments\n",
    "id_path      = r'other/IDs.txt'\n",
    "fname_suffix =  \"_8bit.tif\"\n",
    "meta_dict    = {'channels'   : ['pea3smFISH', 'lynEGFP'],\n",
    "                'resolution' : [0.187, 0.085, 0.085],\n",
    "                'date'       : '20180727',\n",
    "                'microscope' : 'ZEISS-LSM880-AIRY-FAST',\n",
    "                'condition'  : 'wild-type',\n",
    "                'notes'      : 'Sample fixed for smFISH staining.'}\n",
    "\n",
    "# Run initialization pipeline\n",
    "init.initialize_dir(dir_path, id_path, meta_dict,\n",
    "                    IDR_data=True, IDR_IDs=relevant_samples,\n",
    "                    ignore_old=False, verbose=True)"
   ]
  }
 ],
 "metadata": {
  "kernelspec": {
   "display_name": "Python 2",
   "language": "python",
   "name": "python2"
  },
  "language_info": {
   "codemirror_mode": {
    "name": "ipython",
    "version": 2
   },
   "file_extension": ".py",
   "mimetype": "text/x-python",
   "name": "python",
   "nbconvert_exporter": "python",
   "pygments_lexer": "ipython2",
   "version": "2.7.13"
  }
 },
 "nbformat": 4,
 "nbformat_minor": 2
}
