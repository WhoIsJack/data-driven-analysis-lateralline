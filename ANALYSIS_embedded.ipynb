{
 "cells": [
  {
   "cell_type": "markdown",
   "metadata": {},
   "source": [
    "<a id=top></a>\n",
    "\n",
    "# Basic Analysis of ISLA-CBE Embeddings"
   ]
  },
  {
   "cell_type": "markdown",
   "metadata": {},
   "source": [
    "## Table of Contents\n",
    "\n",
    "----\n",
    "\n",
    "1. [Preparations](#prep)\n",
    "2. [PCA Analysis](#pca)\n",
    "3. [tSNE Analysis](#tsne)\n",
    "4. [Tissue Consensus Map](#tcmap)"
   ]
  },
  {
   "cell_type": "markdown",
   "metadata": {},
   "source": [
    "<a id=prep></a>\n",
    "\n",
    "## 1. Preparations\n",
    "\n",
    "----"
   ]
  },
  {
   "cell_type": "code",
   "execution_count": null,
   "metadata": {},
   "outputs": [],
   "source": [
    "### Import modules\n",
    "\n",
    "# External, general\n",
    "from __future__ import division\n",
    "import os, sys\n",
    "import numpy as np\n",
    "import matplotlib.pyplot as plt\n",
    "%matplotlib inline\n",
    "\n",
    "# External, specific\n",
    "from sklearn.decomposition import PCA\n",
    "from mpl_toolkits.mplot3d import Axes3D\n",
    "from scipy.spatial import cKDTree\n",
    "from sklearn.manifold.t_sne import TSNE\n",
    "import scipy.stats as stats\n",
    "\n",
    "# Internal\n",
    "import katachi.utilities.loading as ld\n",
    "import katachi.utilities.plotting as kp"
   ]
  },
  {
   "cell_type": "code",
   "execution_count": null,
   "metadata": {},
   "outputs": [],
   "source": [
    "### Load data\n",
    "\n",
    "# Prep loader\n",
    "loader = ld.DataLoaderIDR()\n",
    "loader.find_imports(r\"data/experimentA/extracted_measurements/\", recurse=True, verbose=True)\n",
    "\n",
    "# Import feature space\n",
    "dataset_suffix = \"shape_TFOR_raw_measured.tsv\"\n",
    "#dataset_suffix = \"shape_CFOR_raw_measured.tsv\"\n",
    "#dataset_suffix = \"tagRFPtUtrCH_TFOR_raw_measured.tsv\"\n",
    "#dataset_suffix = \"mKate2GM130_TFOR_raw_measured.tsv\"\n",
    "fspace, prim_IDs, fspace_idx = loader.load_dataset(dataset_suffix)\n",
    "print \"Imported feature space of shape:\", fspace.shape\n",
    "\n",
    "# Import TFOR centroid locations\n",
    "centroids = loader.load_dataset(\"_other_measurements.tsv\", IDs=prim_IDs)[0][:,3:6][:,::-1]\n",
    "print \"Imported TFOR centroids of shape:\", centroids.shape\n",
    "\n",
    "# OPTIONAL: Import TFOR landmarks for point cloud-based visualizations\n",
    "# WARNING: This data is not available on the IDR, so visualizations that\n",
    "#          require it are skipped so long as `use_landmarks = False`.\n",
    "#          To generate the data from the images/segmentations themselves, \n",
    "#          run `RUN_Initialization.ipynb` and `RUN_FeatureEmbedding.ipynb`.\n",
    "#          Note that the latter takes a long time and significant resources.\n",
    "use_landmarks = False\n",
    "if use_landmarks:\n",
    "    loader_lms = ld.DataLoader(\"data/experimentA/image_data/\", recurse=True, verbose=True)\n",
    "    lms, _, _ = loader_lms.load_dataset(\"seg_LMs_TFOR_kmeansPRES.npy\", IDs=prim_IDs)\n",
    "    #lms, _, _ = loader_lms.load_dataset(\"tagRFPtUtrCH_LMs_TFOR_kmeansPRES.npy\", IDs=prim_IDs)\n",
    "    #lms, _, _ = loader_lms.load_dataset(\"mKate2GM130_LMs_TFOR_kmeansPRES.npy\", IDs=prim_IDs)\n",
    "    print \"Imported landmarks of shape:\", lms.shape"
   ]
  },
  {
   "cell_type": "code",
   "execution_count": null,
   "metadata": {},
   "outputs": [],
   "source": [
    "### Standardize feature space\n",
    "\n",
    "# To zero mean and unit variance\n",
    "print 'Before:\\n  Means:', fspace.mean(axis=0)[:3], '\\n  Stds: ', fspace.std(axis=0)[:3]\n",
    "fspace_z = (fspace - fspace.mean(axis=0)) / fspace.std(axis=0)\n",
    "print 'After:\\n  Means:', fspace_z.mean(axis=0)[:3], '\\n  Stds: ', fspace_z.std(axis=0)[:3]"
   ]
  },
  {
   "cell_type": "code",
   "execution_count": null,
   "metadata": {},
   "outputs": [],
   "source": [
    "### Show imported data as boxplots\n",
    "\n",
    "# Prep\n",
    "fig,ax = plt.subplots(1,2,figsize=(12,3))\n",
    "\n",
    "# Before standardization\n",
    "ax[0].boxplot(fspace)\n",
    "ax[0].set_title(\"Boxplot of Shape Space [raw]\")\n",
    "ax[0].set_xlabel(\"Features\")\n",
    "\n",
    "# After standardization\n",
    "ax[1].boxplot(fspace_z)\n",
    "ax[1].set_title(\"Boxplot of Shape Space [standardized]\")\n",
    "ax[1].set_xlabel(\"Features\")\n",
    "\n",
    "# Done\n",
    "plt.show()"
   ]
  },
  {
   "cell_type": "markdown",
   "metadata": {},
   "source": [
    "<a id=pca></a>\n",
    "\n",
    "## 2. PCA Analysis\n",
    "\n",
    "----"
   ]
  },
  {
   "cell_type": "markdown",
   "metadata": {},
   "source": [
    "#### Basics"
   ]
  },
  {
   "cell_type": "code",
   "execution_count": null,
   "metadata": {},
   "outputs": [],
   "source": [
    "### Perform PCA\n",
    "\n",
    "# Fit & transform PCA\n",
    "pca = PCA()\n",
    "fspace_pca = pca.fit_transform(fspace_z)\n",
    "\n",
    "# Report\n",
    "num_PCs = len(pca.components_)\n",
    "print \"N samples:\", fspace_z.shape[0]\n",
    "print \"N PCs:    \", num_PCs\n",
    "\n",
    "# For publication: Invert PCs to make them easier to discuss\n",
    "inversion_vector = np.ones(fspace_pca.shape[1])\n",
    "if 'shape' in dataset_suffix and 'TFOR' in dataset_suffix:\n",
    "    inversion_vector[[0,2,4,5]] = -1    \n",
    "if 'shape' in dataset_suffix and 'CFOR' in dataset_suffix:\n",
    "    inversion_vector[0] = -1\n",
    "fspace_pca = fspace_pca * inversion_vector"
   ]
  },
  {
   "cell_type": "code",
   "execution_count": null,
   "metadata": {},
   "outputs": [],
   "source": [
    "### Plot explained variance ratio\n",
    "\n",
    "# Make plot\n",
    "expl_var = pca.explained_variance_ratio_\n",
    "plt.figure(figsize=(4,2))\n",
    "plt.plot(np.arange(1,num_PCs+1), expl_var, '.-')\n",
    "\n",
    "# Cosmetics\n",
    "plt.xticks(np.arange(0, num_PCs+1, 1))\n",
    "plt.xlim([0.8,20.2])\n",
    "plt.xlabel('PCs')\n",
    "plt.ylabel('Explained variance ratio')\n",
    "plt.show()"
   ]
  },
  {
   "cell_type": "code",
   "execution_count": null,
   "metadata": {},
   "outputs": [],
   "source": [
    "### Interactive 2D visualization of PC space\n",
    "\n",
    "# Set interactions\n",
    "from ipywidgets import interact\n",
    "@interact(show_all=True,\n",
    "          prim_ID=prim_IDs,\n",
    "          PCx=(1, fspace_pca.shape[1], 1),\n",
    "          PCy=(1, fspace_pca.shape[1], 1))\n",
    "\n",
    "# Show \n",
    "def show_PCs(show_all=True, prim_ID=prim_IDs[0], PCx=1, PCy=2): \n",
    "    \n",
    "    # Prep\n",
    "    plt.figure(figsize=(8,6))\n",
    "    \n",
    "    # If all should be shown...\n",
    "    if show_all:\n",
    "        \n",
    "        # Plot\n",
    "        plt.scatter(fspace_pca[:,PCx-1], fspace_pca[:,PCy-1],\n",
    "                    c=fspace_idx, cmap=plt.cm.plasma,\n",
    "                    s=10, edgecolor='')\n",
    "    \n",
    "        # Cosmetics  \n",
    "        cbar = plt.colorbar()\n",
    "        cbar.set_label('prim', rotation=270, labelpad=15)\n",
    "        plt.xlabel(\"PC \"+str(PCx))\n",
    "        plt.ylabel(\"PC \"+str(PCy))\n",
    "        plt.title(\"PCA-Transformed Shape Space [All Prims]\")\n",
    "        plt.show()\n",
    "        \n",
    "    # If individual prims should be shown...\n",
    "    else:\n",
    "        \n",
    "        # Plot\n",
    "        plt.scatter(fspace_pca[fspace_idx==prim_IDs.index(prim_ID), PCx-1], \n",
    "                    fspace_pca[fspace_idx==prim_IDs.index(prim_ID), PCy-1],\n",
    "                    c=[prim_IDs.index(prim_ID) for _ \n",
    "                       in range(np.sum(fspace_idx==prim_IDs.index(prim_ID)))],\n",
    "                    cmap=plt.cm.plasma, s=10, edgecolor='',\n",
    "                    vmin=0, vmax=len(prim_IDs))\n",
    "        \n",
    "        # Cosmetics\n",
    "        cbar = plt.colorbar()\n",
    "        cbar.set_label('prim', rotation=270, labelpad=15)\n",
    "        plt.xlabel(\"PC \"+str(PCx))\n",
    "        plt.ylabel(\"PC \"+str(PCy))\n",
    "        plt.title(\"PCA-Transformed Shape Space [prim \"+prim_ID+\"]\")\n",
    "        plt.show()"
   ]
  },
  {
   "cell_type": "markdown",
   "metadata": {},
   "source": [
    "#### Optional: Interactive Selection of Point Cloud Display"
   ]
  },
  {
   "cell_type": "code",
   "execution_count": null,
   "metadata": {},
   "outputs": [],
   "source": [
    "### Visualization of cells in PC space: prep\n",
    "if use_landmarks:\n",
    "\n",
    "    # Define PCA axes to look at\n",
    "    x_pca, y_pca = (0, 1)\n",
    "\n",
    "    # Function to find nearby clicked point\n",
    "    kdTree = cKDTree(fspace_pca[:,(x_pca, y_pca)])\n",
    "    def get_close_point(xdata, ydata, min_dist=0.5):\n",
    "        distance,index = kdTree.query([xdata,ydata], k=1, eps=0)\n",
    "        if distance < min_dist:\n",
    "            return index\n",
    "        else:\n",
    "            return None"
   ]
  },
  {
   "cell_type": "code",
   "execution_count": null,
   "metadata": {
    "scrolled": false
   },
   "outputs": [],
   "source": [
    "### Visualization of cells in PC space: prep\n",
    "if use_landmarks:\n",
    "\n",
    "    # Note: Due to the switch to the pylab notebook backend, this cell may need to be\n",
    "    #       executed twice for the plot to display!\n",
    "\n",
    "    # Switch to notebook backend\n",
    "    get_ipython().magic('pylab notebook')\n",
    "\n",
    "    # Initial plot\n",
    "    fig = plt.figure(figsize=(13,4))\n",
    "    ax = [fig.add_subplot(1, 2, 1), fig.add_subplot(1, 2, 2, projection='3d')]\n",
    "    scat = ax[0].scatter(fspace_pca[:,x_pca],\n",
    "                         fspace_pca[:,y_pca],\n",
    "                         c=fspace_idx, cmap=plt.cm.plasma,\n",
    "                         s=10, edgecolor='')\n",
    "    ax[0].set_xlabel(\"PC \"+str(x_pca+1))\n",
    "    ax[0].set_ylabel(\"PC \"+str(y_pca+1))\n",
    "    cbar = plt.colorbar(scat, ax=ax[0])\n",
    "    cbar.set_label('prim', rotation=270, labelpad=15)\n",
    "\n",
    "    # HTML widgets for printing\n",
    "    # Note: this is needed because jupyter would overwrite ordinary prints\n",
    "    import ipywidgets as widgets\n",
    "    w = widgets.HTML()\n",
    "    q = widgets.HTML()\n",
    "\n",
    "    # Click event function\n",
    "    def onclick(event):\n",
    "\n",
    "        # Skip clicks in the 3D subplot\n",
    "        if event.x > 500:\n",
    "            return\n",
    "\n",
    "        # For printing click data\n",
    "        w.value = 'button=%d, x=%d, y=%d, xdata=%f, ydata=%f'%(\n",
    "                  event.button, event.x, event.y, event.xdata, event.ydata)\n",
    "\n",
    "        # Get nearby point in figure\n",
    "        min_dist = 0.5\n",
    "        target  = get_close_point(event.xdata, event.ydata, min_dist)\n",
    "        q.value = 'target_idx=%d' % target\n",
    "\n",
    "        # If a nearby point has been found...\n",
    "        if target is not None:\n",
    "\n",
    "            # Clear and replot the shape space with the selected point in red\n",
    "            ax[0].cla()\n",
    "            ax[0].scatter(fspace_pca[:,x_pca],\n",
    "                          fspace_pca[:,y_pca],\n",
    "                          c=fspace_idx, cmap=plt.cm.plasma,\n",
    "                          s=10, edgecolor='')\n",
    "            ax[0].scatter(fspace_pca[target,x_pca],\n",
    "                          fspace_pca[target,y_pca],\n",
    "                          c='r', edgecolor='')\n",
    "            ax[0].set_xlabel(\"PC \"+str(x_pca+1))\n",
    "            ax[0].set_ylabel(\"PC \"+str(y_pca+1))\n",
    "\n",
    "            # Clear and plot the corresponding cell\n",
    "            ax[1].cla()\n",
    "            ax[1].scatter(lms[target,:,2], lms[target,:,1], lms[target,:,0],\n",
    "                          c='b', edgecolor='', cmap=plt.cm.plasma)  \n",
    "\n",
    "            # Draw the updates\n",
    "            fig.canvas.draw()\n",
    "\n",
    "    # Starting the plot 'app'\n",
    "    cid = fig.canvas.mpl_connect('button_press_event', onclick)\n",
    "\n",
    "    # Displaying the text\n",
    "    display(w)\n",
    "    display(q)"
   ]
  },
  {
   "cell_type": "code",
   "execution_count": null,
   "metadata": {},
   "outputs": [],
   "source": [
    "# Return to inline backend\n",
    "if use_landmarks:\n",
    "    get_ipython().magic('pylab inline')"
   ]
  },
  {
   "cell_type": "markdown",
   "metadata": {},
   "source": [
    "#### Optional: Moving Through Dimensions"
   ]
  },
  {
   "cell_type": "code",
   "execution_count": null,
   "metadata": {},
   "outputs": [],
   "source": [
    "### Find a sensible path to move through a given target dimension\n",
    "if use_landmarks:\n",
    "\n",
    "    # Params\n",
    "    target_dim    =   0\n",
    "    relevant_dims =  20\n",
    "\n",
    "    # Find points along the spectrum of the target dim\n",
    "    percentiles = [np.percentile(fspace_pca[:,target_dim], p) for p in range(0,101)]\n",
    "    candidates  = [np.where(  (fspace_pca[:,target_dim] >  p_a)\n",
    "                            & (fspace_pca[:,target_dim] <= p_b)\n",
    "                           )[0] for p_a,p_b in zip(percentiles, percentiles[1:])]\n",
    "\n",
    "    # Select the one with minimum squared distance from zero across all other dims\n",
    "    all_except_target = list(d for d in np.arange(relevant_dims) if not d==target_dim)\n",
    "    squared_distances = np.sum(fspace_pca[:,all_except_target]**2.0, axis=1)\n",
    "    dim_path = [candits[np.argmin(squared_distances[candits])] for candits in candidates]"
   ]
  },
  {
   "cell_type": "code",
   "execution_count": null,
   "metadata": {},
   "outputs": [],
   "source": [
    "### Register the point clouds along the path by ICP\n",
    "if use_landmarks:\n",
    "    \n",
    "    # Grab ICP\n",
    "    from katachi.external.icp import icp_ready as icp\n",
    "\n",
    "    # Align each cloud on the path to the previous\n",
    "    # Note: This can be suboptimal if you traverse an area of round-ish cells,\n",
    "    #       in which case the original alignment orientation is lost...\n",
    "    registered_clouds = [lms[dim_path[0]]]\n",
    "    for step in dim_path[1:]:\n",
    "        reg, _, _ = icp.register_by_icp(lms[step], registered_clouds[-1])\n",
    "        registered_clouds.append(reg)\n",
    "    registered_clouds = np.array(registered_clouds)"
   ]
  },
  {
   "cell_type": "code",
   "execution_count": null,
   "metadata": {
    "scrolled": false
   },
   "outputs": [],
   "source": [
    "### Interactive visualization of path point clouds in 3D\n",
    "if use_landmarks:\n",
    "\n",
    "    # Note: Due to the switch to the pylab notebook backend, this cell may need to be\n",
    "    #       executed twice for the plot to display!\n",
    "\n",
    "    # Switch to notebook backend\n",
    "    get_ipython().magic('pylab notebook')\n",
    "\n",
    "    # Choose whether to use registered or unregistered\n",
    "    path_clouds = registered_clouds\n",
    "\n",
    "    # Initial plot creation\n",
    "    fig, ax = kp.point_cloud_3D(path_clouds[0][:,2],\n",
    "                                   path_clouds[0][:,1], \n",
    "                                   path_clouds[0][:,0], \n",
    "                                   s=40, c='r',\n",
    "                                   figsize=(8,8), fin=False)\n",
    "\n",
    "    from ipywidgets import interact, fixed\n",
    "    @interact(step=(0,len(dim_path)-1,1),\n",
    "              ax=fixed(ax), fig=fixed(fig))\n",
    "    def path_plot(ax, fig, step=0):\n",
    "\n",
    "        # Get cloud\n",
    "        step_cloud = path_clouds[step]\n",
    "\n",
    "        # Plot\n",
    "        ax.cla()\n",
    "        fig, ax = kp.point_cloud_3D(step_cloud[:,2], step_cloud[:,1], step_cloud[:,0], \n",
    "                                       s=40, c='r', \n",
    "                                       init=False, fin=False,\n",
    "                                       pre_fig=fig, pre_ax=ax)\n",
    "\n",
    "        # Axis limits\n",
    "        ax.set_xlim([-8,8])\n",
    "        ax.set_ylim([-8,8])\n",
    "        ax.set_zlim([-8,8])\n",
    "\n",
    "        # Labels\n",
    "        ax.set_xlabel(r'x [$\\mu m$]', fontsize=14)\n",
    "        ax.set_ylabel(r'y [$\\mu m$]', fontsize=14)\n",
    "        ax.set_zlabel(r'z [$\\mu m$]', fontsize=14)\n",
    "        ax.set_title('PC-Dim='+str(target_dim+1)+' | Step='+str(step))\n",
    "        plt.tick_params(axis='both', which='major', labelsize=12)\n",
    "\n",
    "        # Show\n",
    "        fig.canvas.draw()"
   ]
  },
  {
   "cell_type": "code",
   "execution_count": null,
   "metadata": {},
   "outputs": [],
   "source": [
    "# Return to inline backend\n",
    "if use_landmarks:\n",
    "    get_ipython().magic('pylab inline')"
   ]
  },
  {
   "cell_type": "markdown",
   "metadata": {},
   "source": [
    "#### PCA-Plots for Publication"
   ]
  },
  {
   "cell_type": "code",
   "execution_count": null,
   "metadata": {
    "scrolled": false
   },
   "outputs": [],
   "source": [
    "### PC 1 vs PC2\n",
    "\n",
    "# Params\n",
    "PCx = 1\n",
    "PCy = 2\n",
    "\n",
    "# Prep\n",
    "plt.figure(figsize=(6,6))\n",
    "\n",
    "# Plot\n",
    "scramble = np.random.permutation(np.arange(fspace_pca.shape[0]))\n",
    "plt.scatter(fspace_pca[scramble,PCx-1], fspace_pca[scramble,PCy-1],\n",
    "            c=fspace_idx[scramble], cmap=plt.cm.plasma,\n",
    "            s=6, edgecolor='', alpha=0.8)\n",
    "\n",
    "# Labels\n",
    "plt.xticks(range(-10, 11,  5), fontsize=18)  # TFOR\n",
    "#plt.xticks(range(-30, 21, 10), fontsize=18)  # CFOR\n",
    "#plt.yticks(range(-10, 11,  5), fontsize=18)  # CFOR\n",
    "plt.xlabel(\"PC \"+str(PCx), fontsize=19)\n",
    "plt.ylabel(\"PC \"+str(PCy), fontsize=19, labelpad=-15)\n",
    "plt.title(\"Shape Space (TFOR)\", fontsize=21, y=1.015)  # TFOR\n",
    "#plt.title(\"Shape Space (CFOR)\", fontsize=21, y=1.015)  # CFOR\n",
    "\n",
    "# Axes\n",
    "plt.xlim([-12, 12]); plt.ylim([-10, 11])  # TFOR\n",
    "#plt.xlim([-30, 20]); plt.ylim([-10, 11])  # CFOR\n",
    "\n",
    "# Finalize\n",
    "plt.tight_layout()\n",
    "plt.show()"
   ]
  },
  {
   "cell_type": "markdown",
   "metadata": {},
   "source": [
    "#### Optional: Example 3D Cell Renderings"
   ]
  },
  {
   "cell_type": "code",
   "execution_count": null,
   "metadata": {},
   "outputs": [],
   "source": [
    "### Example 3D Cell Renderings\n",
    "if use_landmarks:\n",
    "\n",
    "    # Params\n",
    "    #target =  5817  # High CFOR PC 1\n",
    "    #target =  6225  # Low CFOR PC 1\n",
    "    #target =   844  # High CFOR PC 2\n",
    "    #target =  2867  # Low CFOR PC 2\n",
    "    #target =  5765  # High TFOR PC 1\n",
    "    #target =  3586  # Low TFOR PC 1\n",
    "    #target = 12356  # High TFOR PC 2\n",
    "    target =  2668  # Low TFOR PC 2\n",
    "\n",
    "    # Plot\n",
    "    fig, ax = kp.point_cloud_3D(lms[target,:,2], lms[target,:,1], lms[target,:,0], \n",
    "                                   figsize=(4,4), s=40, c='r',\n",
    "                                   fin=False)\n",
    "\n",
    "    # Labels\n",
    "    ax.set_xlabel(r'x [$\\mu m$]', fontsize=14)\n",
    "    ax.set_ylabel(r'y [$\\mu m$]', fontsize=14)\n",
    "    ax.set_zlabel(r'z [$\\mu m$]', fontsize=14)\n",
    "    ax.set_xticks([-8,-4,0,4,8])\n",
    "    ax.set_yticks([-8,-4,0,4,8])\n",
    "    ax.set_zticks([-8,-4,0,4,8])\n",
    "    plt.tick_params(axis='both', which='major', labelsize=12)\n",
    "\n",
    "    # Axis limits\n",
    "    ax.set_xlim([-8,8])\n",
    "    ax.set_ylim([-8,8])\n",
    "    ax.set_zlim([-8,8])\n",
    "\n",
    "    # View\n",
    "    #ax.view_init(azim=330)  # For TFOR PC 1 only\n",
    "\n",
    "    # Finalize\n",
    "    #plt.tight_layout()\n",
    "    plt.show()"
   ]
  },
  {
   "cell_type": "markdown",
   "metadata": {},
   "source": [
    "<a id=tsne></a>\n",
    "\n",
    "## 3. tSNE Analysis\n",
    "\n",
    "----\n",
    "\n",
    "<font color=orange>**Warning:**</font> Running the tSNE on the full dataset can take a while!"
   ]
  },
  {
   "cell_type": "raw",
   "metadata": {},
   "source": [
    "### Perform tSNE\n",
    "\n",
    "# Settings\n",
    "num_PCs   = 20  # Number of PCs to include\n",
    "subsample = 10  # Subsampling so it doesn't take forever\n",
    "\n",
    "# Some parameter tests ->> none yield interesting structure\n",
    "# - p=30, l=200: no substantial structure\n",
    "# - p=30, l= 20: no substantial structure\n",
    "# - p=30, l=900: no substantial structure\n",
    "# - p= 5, l=200: no substantial structure\n",
    "# - p=50, l=200: no substantial structure\n",
    "\n",
    "# Fit & transform tSNE\n",
    "tsne = TSNE(n_components=2, random_state=42, \n",
    "            perplexity=30, learning_rate=20)\n",
    "fspace_tsne = tsne.fit_transform(fspace_pca[::subsample, :num_PCs])"
   ]
  },
  {
   "cell_type": "raw",
   "metadata": {},
   "source": [
    "### Plot tSNE results\n",
    "\n",
    "# Prep\n",
    "plt.figure(figsize=(4,4))\n",
    "\n",
    "# Plot\n",
    "scr_sub = np.random.choice(np.arange(fspace_tsne.shape[0]), \n",
    "                           size=fspace_tsne.shape[0], replace=False)\n",
    "plt.scatter(fspace_tsne[scr_sub,0], fspace_tsne[scr_sub,1],\n",
    "            c=fspace_idx[scr_sub], cmap=plt.cm.plasma,\n",
    "            s=4, edgecolor='', alpha=0.8)\n",
    "\n",
    "# Labels\n",
    "plt.xlabel(\"tSNE 1\", fontsize=16)\n",
    "plt.ylabel(\"tSNE 2\", fontsize=16, labelpad=-5)\n",
    "plt.title(\"TFOR\", fontsize=16)  # TFOR\n",
    "#plt.title(\"CFOR\", fontsize=16)  # CFOR\n",
    "\n",
    "# Finalize\n",
    "plt.tight_layout()\n",
    "plt.show()"
   ]
  },
  {
   "cell_type": "markdown",
   "metadata": {},
   "source": [
    "<a id=tcmap></a>\n",
    "\n",
    "## 4. Tissue Consensus Map\n",
    "\n",
    "----"
   ]
  },
  {
   "cell_type": "code",
   "execution_count": null,
   "metadata": {},
   "outputs": [],
   "source": [
    "### Centroid-based back-mapping\n",
    "\n",
    "# Axis range (easiest to set manually)\n",
    "xlim = (-175, 15)\n",
    "ylim = (- 20, 20)\n",
    "\n",
    "# Interactive choice of PC\n",
    "from ipywidgets import interact\n",
    "@interact(PC=(1, fspace_pca.shape[1],1))\n",
    "def centroid_backmap(PC=1):  \n",
    "    \n",
    "    # Select fspace data\n",
    "    fspace_plot_data = fspace_pca\n",
    "    \n",
    "    # Init\n",
    "    fig, ax = plt.subplots(1 ,figsize=(12,5))\n",
    "    \n",
    "    # Back-mapping plot\n",
    "    #zord = np.argsort(-fspace_pca[:,PC-1])\n",
    "    zord = np.arange(len(fspace_pca)); np.random.shuffle(zord)  # Random is better!\n",
    "    scat = ax.scatter(centroids[zord,2], centroids[zord,1],\n",
    "                      color=fspace_pca[zord,PC-1], cmap=plt.cm.plasma,\n",
    "                      edgecolor='', s=15, alpha=0.75)\n",
    "\n",
    "    # Cosmetics\n",
    "    ax.set_xlim(xlim)\n",
    "    ax.set_ylim(ylim)\n",
    "    ax.invert_yaxis()  # To match images\n",
    "    ax.set_xlabel('TFOR x')\n",
    "    ax.set_ylabel('TFOR y')\n",
    "    ax.set_title('Centroid Back-Mapping of PC '+str(PC))\n",
    "    cbar = plt.colorbar(scat,ax=ax)\n",
    "    cbar.set_label('PC '+str(PC), rotation=270, labelpad=10)\n",
    "    \n",
    "    # Done\n",
    "    plt.show()"
   ]
  },
  {
   "cell_type": "code",
   "execution_count": null,
   "metadata": {},
   "outputs": [],
   "source": [
    "### Backmapping with kde\n",
    "# Derived from /SO/Flabetvibes on SO/questions/30145957\n",
    "\n",
    "# Axis range (easiest to set manually)\n",
    "xlim = (-175, 15)\n",
    "ylim = (- 20, 20)\n",
    "\n",
    "# Interactive options\n",
    "from ipywidgets import interact\n",
    "@interact(PC=(1,fspace_pca.shape[1],1),\n",
    "          p_thresh=(10,90,10))\n",
    "def kde_backmap(PC=1, p_thresh=70):\n",
    "    \n",
    "    # Prep data\n",
    "    kde_data = centroids[fspace_pca[:,PC-1] > np.percentile(fspace_pca[:,PC-1], p_thresh), :]\n",
    "    kde_x = kde_data[:, 2]\n",
    "    kde_y = kde_data[:, 1]\n",
    "\n",
    "    # Extents\n",
    "    xmin, xmax = xlim\n",
    "    ymin, ymax = ylim\n",
    "\n",
    "    # Peform the kernel density estimate\n",
    "    xx, yy = np.mgrid[xmin:xmax:100j, ymin:ymax:100j]\n",
    "    positions = np.vstack([xx.ravel(), yy.ravel()])\n",
    "    values = np.vstack([kde_x, kde_y])\n",
    "    kernel = stats.gaussian_kde(values)\n",
    "    f = np.reshape(kernel(positions).T, xx.shape)\n",
    "    \n",
    "    # Initialize figure\n",
    "    fig = plt.figure(figsize=(12,5))\n",
    "    ax = fig.gca()\n",
    "\n",
    "    # Contourf plot\n",
    "    cfset = ax.contourf(xx, yy, f, 10, cmap='magma')\n",
    "    \n",
    "    # Prim contour outline\n",
    "    values_prim = np.vstack([centroids[:,2], centroids[:,1]])\n",
    "    kernel_prim = stats.gaussian_kde(values_prim)\n",
    "    f_prim = np.reshape(kernel_prim(positions).T, xx.shape)\n",
    "    levels = [f_prim.min() + (f_prim.max()-f_prim.min())*factor for factor in [0.1]]\n",
    "    cset_prim = ax.contour(xx, yy, f_prim, levels, colors='w', linestyles='dashed')\n",
    "    \n",
    "    # Cosmetics\n",
    "    plt.title(\"KDE of PC\"+str(PC)+\" Centroids at Percentile Threshold \"+str(p_thresh))\n",
    "    plt.xlabel('TFOR x')\n",
    "    plt.ylabel('TFOR y')\n",
    "    plt.xlim(xmin, xmax)\n",
    "    plt.ylim(ymin, ymax)\n",
    "    ax.invert_yaxis()  # To match images\n",
    "    cbar = plt.colorbar(cfset, ax=ax, format=\"%.E\")\n",
    "    cbar.set_label('PC '+str(PC), rotation=270, labelpad=20)\n",
    "    \n",
    "    # Done\n",
    "    plt.show()"
   ]
  },
  {
   "cell_type": "code",
   "execution_count": null,
   "metadata": {},
   "outputs": [],
   "source": [
    "### Contour plot backmapping plot for publication\n",
    "\n",
    "# Settings\n",
    "PC = 1\n",
    "xlim = (-130, 8)\n",
    "ylim = ( -19, 19)\n",
    "\n",
    "# Get plot values\n",
    "plot_values = fspace_pca[:,PC-1]\n",
    "\n",
    "# Tools for smoothing on scatter\n",
    "from katachi.utilities.pcl_helpers import pcl_gaussian_smooth\n",
    "from scipy.spatial.distance import pdist, squareform\n",
    "\n",
    "# Cut off at prim contour outline\n",
    "kernel_prim = stats.gaussian_kde(centroids[:,1:].T)\n",
    "f_prim = kernel_prim(centroids[:,1:].T)\n",
    "f_prim_mask = f_prim > f_prim.min() + (f_prim.max()-f_prim.min())*0.1\n",
    "plot_values    = plot_values[f_prim_mask]\n",
    "plot_centroids = centroids[f_prim_mask]\n",
    "\n",
    "# Smoothen\n",
    "pdists = squareform(pdist(plot_centroids[:,1:]))\n",
    "plot_values = pcl_gaussian_smooth(pdists, plot_values[:,np.newaxis], sg_percentile=0.5)[:,0]\n",
    "\n",
    "# Initialize figure\n",
    "fig, ax = plt.subplots(1, figsize=(8, 3.25))\n",
    "\n",
    "# Contourf plot\n",
    "cfset = ax.tricontourf(plot_centroids[:,2], plot_centroids[:,1], plot_values, 20, \n",
    "                       cmap='plasma')\n",
    "\n",
    "# Illustrative centroids from a single prim\n",
    "plt.scatter(centroids[fspace_idx==prim_IDs.index(prim_IDs[0]), 2], \n",
    "            centroids[fspace_idx==prim_IDs.index(prim_IDs[0]), 1],\n",
    "            c='', alpha=0.5)\n",
    "\n",
    "# Cosmetics\n",
    "ax.set_xlabel('TFOR x', fontsize=16)\n",
    "ax.set_ylabel('TFOR y', fontsize=16)\n",
    "plt.tick_params(axis='both', which='major', labelsize=13)\n",
    "plt.xlim(xlim); plt.ylim(ylim)\n",
    "ax.invert_yaxis()  # To match images\n",
    "\n",
    "# Colorbar\n",
    "cbar = plt.colorbar(cfset, ax=ax, pad=0.01)\n",
    "cbar.set_label('PC '+str(PC), rotation=270, labelpad=10, fontsize=16)\n",
    "cbar.ax.tick_params(labelsize=13)\n",
    "\n",
    "# Done\n",
    "plt.tight_layout()\n",
    "plt.show()"
   ]
  },
  {
   "cell_type": "markdown",
   "metadata": {},
   "source": [
    "----\n",
    "[back to top](#top)"
   ]
  }
 ],
 "metadata": {
  "kernelspec": {
   "display_name": "Python 2",
   "language": "python",
   "name": "python2"
  },
  "language_info": {
   "codemirror_mode": {
    "name": "ipython",
    "version": 2
   },
   "file_extension": ".py",
   "mimetype": "text/x-python",
   "name": "python",
   "nbconvert_exporter": "python",
   "pygments_lexer": "ipython2",
   "version": "2.7.13"
  },
  "widgets": {
   "state": {
    "1e291f05bff845b084b5ff8b7df2d781": {
     "views": [
      {
       "cell_index": 12
      }
     ]
    },
    "2a3aa3a378ba495ebb1353317e20c949": {
     "views": [
      {
       "cell_index": 12
      }
     ]
    },
    "35c2863460984a0ca80ffb2502fa3252": {
     "views": [
      {
       "cell_index": 12
      }
     ]
    },
    "431898b71df941fa8e98d7c695f21fd1": {
     "views": [
      {
       "cell_index": 12
      }
     ]
    },
    "48647a054cac41488b86db0c63364d47": {
     "views": [
      {
       "cell_index": 19
      }
     ]
    },
    "67bb3b26f97244eb8e52128c5eee5fdf": {
     "views": [
      {
       "cell_index": 18
      }
     ]
    },
    "6d35a34874e84984af268507713f0e18": {
     "views": [
      {
       "cell_index": 12
      }
     ]
    },
    "717619d279314964ae0417cbb1ba92e1": {
     "views": [
      {
       "cell_index": 12
      }
     ]
    },
    "7cb67d84beee4bf193c115ff14ca8d1d": {
     "views": [
      {
       "cell_index": 12
      }
     ]
    },
    "879b649c388a4eb1bc111f64bfefeda4": {
     "views": [
      {
       "cell_index": 17
      }
     ]
    },
    "8f017058f4f84623a05dc53abbf5ff49": {
     "views": [
      {
       "cell_index": 12
      }
     ]
    },
    "9bd88ad69d8b4f8a9fb2f196176d4b46": {
     "views": [
      {
       "cell_index": 12
      }
     ]
    },
    "ad7a682706794eb8a41beef91d7ad2fd": {
     "views": [
      {
       "cell_index": 12
      }
     ]
    },
    "b0e3dcb91992454291d06fafb2ff3755": {
     "views": [
      {
       "cell_index": 12
      }
     ]
    },
    "b683994c07c942998488771605bf31cf": {
     "views": [
      {
       "cell_index": 10
      }
     ]
    },
    "ca7b4a77434e41959e4085b724c410d4": {
     "views": [
      {
       "cell_index": 12
      }
     ]
    },
    "f56c7f3190b14def9fa26fc4ca23fb90": {
     "views": [
      {
       "cell_index": 12
      }
     ]
    }
   },
   "version": "1.2.0"
  }
 },
 "nbformat": 4,
 "nbformat_minor": 2
}
