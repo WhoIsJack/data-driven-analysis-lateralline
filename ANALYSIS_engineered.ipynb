{
 "cells": [
  {
   "cell_type": "markdown",
   "metadata": {},
   "source": [
    "<a id=top></a>\n",
    "\n",
    "# Analysis of Engineered Features"
   ]
  },
  {
   "cell_type": "markdown",
   "metadata": {},
   "source": [
    "## Table of Contents\n",
    "\n",
    "**Note:** In this notebook, the engineered features are referred to as \"covariates\".\n",
    "\n",
    "----\n",
    "\n",
    "1. [Preparations](#prep)\n",
    "2. [Analysis of Covariates](#covar_analysis)\n",
    "    1. [Boxplots](#covar_analysis_boxplots)\n",
    "    2. [Forward Mapping (onto Shape Space)](#covar_analysis_fwdmap)\n",
    "    3. [Back Mapping (Tissue Consensus Map)](#covar_analysis_backmap)\n",
    "    4. [Covariate Correlations](#covar_analysis_correlations)\n",
    "3. [Covariate-Shape Relationships](#covar_fspace)\n",
    "    1. [Covariate-Shape Correlations](#covar_fspace_correlations)\n",
    "    2. [Covariate Relation Graph](#covar_fspace_graph)"
   ]
  },
  {
   "cell_type": "markdown",
   "metadata": {},
   "source": [
    "<a id=prep></a>\n",
    "\n",
    "## 1. Preparations\n",
    "\n",
    "----"
   ]
  },
  {
   "cell_type": "code",
   "execution_count": null,
   "metadata": {},
   "outputs": [],
   "source": [
    "### Import modules\n",
    "\n",
    "# External, general\n",
    "from __future__ import division\n",
    "import os, sys\n",
    "import numpy as np\n",
    "np.random.seed(42)\n",
    "import matplotlib.pyplot as plt\n",
    "%matplotlib inline\n",
    "\n",
    "# External, specific\n",
    "import pandas as pd\n",
    "import ipywidgets as widgets\n",
    "from IPython.display import display, HTML\n",
    "from scipy.stats import linregress, pearsonr, gaussian_kde\n",
    "from scipy.spatial import cKDTree\n",
    "import seaborn as sns\n",
    "sns.set_style('white')\n",
    "import networkx as nx\n",
    "\n",
    "# Internal\n",
    "import katachi.utilities.loading as ld\n",
    "import katachi.utilities.plotting as kp"
   ]
  },
  {
   "cell_type": "code",
   "execution_count": null,
   "metadata": {
    "scrolled": false
   },
   "outputs": [],
   "source": [
    "### Load data\n",
    "\n",
    "# Prep loader\n",
    "loader = ld.DataLoaderIDR()\n",
    "loader.find_imports(r\"data/experimentA/extracted_measurements/\", recurse=True, verbose=True)\n",
    "\n",
    "# Import embedded feature space\n",
    "dataset_suffix = \"shape_TFOR_pca_measured.tsv\"\n",
    "#dataset_suffix = \"shape_CFOR_pca_measured.tsv\"\n",
    "#dataset_suffix = \"tagRFPtUtrCH_TFOR_pca_measured.tsv\"\n",
    "#dataset_suffix = \"mKate2GM130_TFOR_pca_measured.tsv\"\n",
    "fspace_pca, prim_IDs, fspace_idx = loader.load_dataset(dataset_suffix)\n",
    "print \"Imported feature space of shape:\", fspace_pca.shape\n",
    "\n",
    "# Import TFOR centroid locations\n",
    "centroids = loader.load_dataset(\"_other_measurements.tsv\", IDs=prim_IDs)[0][:,3:6][:,::-1]\n",
    "print \"Imported TFOR centroids of shape:\", centroids.shape\n",
    "    \n",
    "# Import engineered features\n",
    "covar_df, _, _ = loader.load_dataset(\"_other_measurements.tsv\", IDs=prim_IDs, force_df=True)\n",
    "del covar_df['Centroids RAW X']; del covar_df['Centroids RAW Y']; del covar_df['Centroids RAW Z']\n",
    "covar_names = list(covar_df.columns)\n",
    "print \"Imported covariates of shape:\", covar_df.shape"
   ]
  },
  {
   "cell_type": "code",
   "execution_count": null,
   "metadata": {
    "scrolled": false
   },
   "outputs": [],
   "source": [
    "### Report\n",
    "print \"\\ncovar_df.head()\"\n",
    "display(covar_df.head())\n",
    "print \"\\ncovar_df.describe()\"\n",
    "display(covar_df.describe())"
   ]
  },
  {
   "cell_type": "code",
   "execution_count": null,
   "metadata": {},
   "outputs": [],
   "source": [
    "### Z-standardize the covariates\n",
    "\n",
    "covar_df_z = (covar_df - covar_df.mean()) / covar_df.std()"
   ]
  },
  {
   "cell_type": "markdown",
   "metadata": {},
   "source": [
    "<a id=covar_analysis></a>\n",
    "\n",
    "## 2. Analysis of Covariates\n",
    "\n",
    "----"
   ]
  },
  {
   "cell_type": "markdown",
   "metadata": {},
   "source": [
    "### Boxplots <a id=covar_analysis_boxplots></a>"
   ]
  },
  {
   "cell_type": "code",
   "execution_count": null,
   "metadata": {},
   "outputs": [],
   "source": [
    "### General boxplot of Covariates\n",
    "\n",
    "# Interactive selection of covariates\n",
    "wid = widgets.SelectMultiple(\n",
    "        options=covar_names,\n",
    "        value=covar_names,\n",
    "        description='Covars',\n",
    ")\n",
    "\n",
    "# Interactive plot\n",
    "@widgets.interact(selected=wid, standardized=True)\n",
    "def covariate_boxplot(selected=covar_names,\n",
    "                      standardized=True):\n",
    "\n",
    "    # Select data\n",
    "    if standardized:\n",
    "        covar_df_plot = covar_df_z[list(selected)]\n",
    "    else:\n",
    "        covar_df_plot = covar_df[list(selected)]\n",
    "    \n",
    "    # Plot\n",
    "    fig = plt.figure(figsize=(12,3))\n",
    "    covar_df_plot.boxplot(grid=False)\n",
    "    plt.tick_params(axis='both', which='major', labelsize=6)\n",
    "    fig.autofmt_xdate()\n",
    "    if standardized: plt.title(\"Boxplot of Covariates [standardized]\")\n",
    "    if not standardized: plt.title(\"Boxplot of Covariates [raw]\")\n",
    "    plt.show()"
   ]
  },
  {
   "cell_type": "markdown",
   "metadata": {},
   "source": [
    "### Forward Mapping (onto Shape Space) <a id=covar_analysis_fwdmap></a>"
   ]
  },
  {
   "cell_type": "code",
   "execution_count": null,
   "metadata": {},
   "outputs": [],
   "source": [
    "### Interactive mapping of covariates onto PCA-transformed shape space\n",
    "\n",
    "# Set interactions\n",
    "@widgets.interact(covariate=covar_names,\n",
    "                  prim_ID=prim_IDs,\n",
    "                  PCx=(1, fspace_pca.shape[1], 1),\n",
    "                  PCy=(1, fspace_pca.shape[1], 1),\n",
    "                  standardized=False,\n",
    "                  show_all_prims=True)\n",
    "\n",
    "# Show \n",
    "def show_PCs(covariate=covar_names[0], prim_ID=prim_IDs[0], \n",
    "             PCx=1, PCy=2, standardized=False, show_all_prims=True): \n",
    "    \n",
    "    # Select covariate data\n",
    "    if standardized:\n",
    "        covar_df_plot = covar_df_z[covariate]\n",
    "    else:\n",
    "        covar_df_plot = covar_df[covariate]\n",
    "    \n",
    "    # Prep\n",
    "    plt.figure(figsize=(9,7))\n",
    "    \n",
    "    # If all should be shown...\n",
    "    if show_all_prims:\n",
    "        \n",
    "        # Plot\n",
    "        plt.scatter(fspace_pca[:,PCx-1], fspace_pca[:,PCy-1],\n",
    "                    c=covar_df_plot, cmap=plt.cm.plasma,\n",
    "                    s=10, edgecolor='', alpha=0.75)\n",
    "    \n",
    "        # Cosmetics  \n",
    "        cbar = plt.colorbar()\n",
    "        if standardized:\n",
    "            cbar.set_label(covariate+\" [standardized]\", rotation=270, labelpad=15)\n",
    "        else:\n",
    "            cbar.set_label(covariate+\" [raw]\", rotation=270, labelpad=15)\n",
    "        plt.xlabel(\"PC \"+str(PCx))\n",
    "        plt.ylabel(\"PC \"+str(PCy))\n",
    "        plt.title(\"PCA-Transformed Shape Space [All Prims]\")\n",
    "        plt.show()\n",
    "        \n",
    "    # If individual prims should be shown...\n",
    "    else:\n",
    "        \n",
    "        # Plot\n",
    "        plt.scatter(fspace_pca[fspace_idx==prim_IDs.index(prim_ID), PCx-1], \n",
    "                    fspace_pca[fspace_idx==prim_IDs.index(prim_ID), PCy-1],\n",
    "                    c=covar_df_plot[fspace_idx==prim_IDs.index(prim_ID)], \n",
    "                    cmap=plt.cm.plasma, s=10, edgecolor='',\n",
    "                    vmin=covar_df_plot.min(), vmax=covar_df_plot.max())\n",
    "        \n",
    "        # Cosmetics\n",
    "        cbar = plt.colorbar()\n",
    "        if standardized:\n",
    "            cbar.set_label(covariate+\" [standardized]\", rotation=270, labelpad=15)\n",
    "        else:\n",
    "            cbar.set_label(covariate+\" [raw]\", rotation=270, labelpad=15)\n",
    "        plt.xlabel(\"PC \"+str(PCx))\n",
    "        plt.ylabel(\"PC \"+str(PCy))\n",
    "        plt.title(\"PCA-Transformed Shape Space [prim \"+prim_ID+\"]\")\n",
    "        plt.show()"
   ]
  },
  {
   "cell_type": "markdown",
   "metadata": {},
   "source": [
    "### Back Mapping (Tissue Consensus Map) <a id=covar_analysis_backmap></a>"
   ]
  },
  {
   "cell_type": "code",
   "execution_count": null,
   "metadata": {},
   "outputs": [],
   "source": [
    "### Interactive mapping of covariates onto centroids in TFOR\n",
    "\n",
    "# Axis range\n",
    "xlim = (-175, 15)\n",
    "ylim = (- 25, 25)\n",
    "\n",
    "# Set interactions\n",
    "@widgets.interact(covariate=covar_names,\n",
    "                  standardized=['no','z'])\n",
    "\n",
    "# Plot\n",
    "def centroid_backmap(covariate=covar_names[0],\n",
    "                     standardized='no'):  \n",
    "\n",
    "    # Select covariate data\n",
    "    if standardized=='no':\n",
    "        covar_df_plot = covar_df[covariate]\n",
    "    elif standardized=='z':\n",
    "        covar_df_plot = covar_df_z[covariate]\n",
    "    \n",
    "    # Init\n",
    "    fig,ax = plt.subplots(1, figsize=(12,5))\n",
    "    \n",
    "    # Back-mapping plot\n",
    "    #zord = np.argsort(covar_df_plot)\n",
    "    zord = np.arange(len(covar_df_plot)); np.random.shuffle(zord)  # Random is better!\n",
    "    scat = ax.scatter(centroids[zord,2], centroids[zord,1],\n",
    "                      color=covar_df_plot[zord], cmap=plt.cm.plasma,\n",
    "                      edgecolor='', s=15, alpha=0.75)\n",
    "\n",
    "    # Cosmetics\n",
    "    ax.set_xlim(xlim)\n",
    "    ax.set_ylim(ylim)\n",
    "    ax.invert_yaxis()  # To match images\n",
    "    ax.set_xlabel('TFOR x')\n",
    "    ax.set_ylabel('TFOR y')\n",
    "    cbar = plt.colorbar(scat,ax=ax)\n",
    "    if standardized:\n",
    "        ax.set_title('Centroid Back-Mapping of '+covariate+' [standardized]')\n",
    "        cbar.set_label(covariate+' [standardized]', rotation=270, labelpad=10)\n",
    "    else:\n",
    "        ax.set_title('Centroid Back-Mapping of '+covariate+' [raw]')\n",
    "        cbar.set_label(covariate+' [raw]', rotation=270, labelpad=20)\n",
    "    \n",
    "    # Done\n",
    "    plt.tight_layout()\n",
    "    plt.show()"
   ]
  },
  {
   "cell_type": "code",
   "execution_count": null,
   "metadata": {},
   "outputs": [],
   "source": [
    "### Contour plot backmapping plot for publication\n",
    "\n",
    "# Set interactions\n",
    "@widgets.interact(covariate=covar_names,\n",
    "                  standardized=['no','z'])\n",
    "\n",
    "# Plot\n",
    "def contour_backmap(covariate=covar_names[0],\n",
    "                     standardized='no'):  \n",
    "\n",
    "    # Settings\n",
    "    xlim = (-130, 8)\n",
    "    ylim = ( -19, 19)\n",
    "\n",
    "    # Select covariate data\n",
    "    if standardized=='no':\n",
    "        covar_df_plot = covar_df[covariate]\n",
    "    elif standardized=='z':\n",
    "        covar_df_plot = covar_df_z[covariate]\n",
    "\n",
    "    # Tools for smoothing on scatter\n",
    "    from katachi.utilities.pcl_helpers import pcl_gaussian_smooth\n",
    "    from scipy.spatial.distance import pdist, squareform\n",
    "\n",
    "    # Cut off at prim contour outline\n",
    "    kernel_prim = gaussian_kde(centroids[:,1:].T)\n",
    "    f_prim = kernel_prim(centroids[:,1:].T)\n",
    "    f_prim_mask = f_prim > f_prim.min() + (f_prim.max()-f_prim.min())*0.1\n",
    "    plot_values    = covar_df_plot[f_prim_mask]\n",
    "    plot_centroids = centroids[f_prim_mask]\n",
    "\n",
    "    # Smoothen\n",
    "    pdists = squareform(pdist(plot_centroids[:,1:]))\n",
    "    plot_values = pcl_gaussian_smooth(pdists, plot_values[:,np.newaxis], sg_percentile=0.5)[:,0]\n",
    "\n",
    "    # Initialize figure\n",
    "    fig, ax = plt.subplots(1, figsize=(8, 3.25))\n",
    "\n",
    "    # Contourf plot\n",
    "    cfset = ax.tricontourf(plot_centroids[:,2], plot_centroids[:,1], plot_values, 20, \n",
    "                           cmap='plasma')\n",
    "\n",
    "    # Illustrative centroids from a single prim\n",
    "    plt.scatter(centroids[fspace_idx==prim_IDs.index(prim_IDs[0]), 2], \n",
    "                centroids[fspace_idx==prim_IDs.index(prim_IDs[0]), 1],\n",
    "                c='', alpha=0.5)\n",
    "\n",
    "    # Cosmetics\n",
    "    ax.set_xlabel('TFOR x', fontsize=16)\n",
    "    ax.set_ylabel('TFOR y', fontsize=16)\n",
    "    plt.tick_params(axis='both', which='major', labelsize=13)\n",
    "    plt.xlim(xlim); plt.ylim(ylim)\n",
    "    ax.invert_yaxis()  # To match images\n",
    "\n",
    "    # Colorbar\n",
    "    cbar = plt.colorbar(cfset, ax=ax, pad=0.01)\n",
    "    cbar.set_label(covariate, rotation=270, labelpad=10, fontsize=16)\n",
    "    cbar.ax.tick_params(labelsize=13)\n",
    "\n",
    "    # Done\n",
    "    plt.tight_layout()\n",
    "    plt.show()"
   ]
  },
  {
   "cell_type": "markdown",
   "metadata": {},
   "source": [
    "### Covariate Correlations <a id=covar_analysis_correlations></a>"
   ]
  },
  {
   "cell_type": "code",
   "execution_count": null,
   "metadata": {},
   "outputs": [],
   "source": [
    "### Interactive linear fitting plot\n",
    "\n",
    "# Set interaction\n",
    "@widgets.interact(covar_x=covar_names, \n",
    "                  covar_y=covar_names)\n",
    "\n",
    "# Plotting function\n",
    "def corr_plot_covar(covar_x=covar_names[0], \n",
    "                    covar_y=covar_names[1]):\n",
    "\n",
    "    # Prep\n",
    "    plt.figure(figsize=(5,3))\n",
    "    \n",
    "    # Scatterplot\n",
    "    plt.scatter(covar_df[covar_x], covar_df[covar_y],\n",
    "                facecolor='darkblue', edgecolor='',\n",
    "                s=5, alpha=0.5)\n",
    "    plt.xlabel(covar_x)\n",
    "    plt.ylabel(covar_y)\n",
    "    \n",
    "    # Linear regression and pearson\n",
    "    fitted  = linregress(covar_df[covar_x], covar_df[covar_y])\n",
    "    pearson = pearsonr(covar_df[covar_x], covar_df[covar_y])\n",
    "    \n",
    "    # Report\n",
    "    print \"Linear regression:\"\n",
    "    for param,value in zip([\"slope\",\"intercept\",\"rvalue\",\"pvalue\",\"stderr\"], fitted):\n",
    "        print \"  {}:\\t{:.2e}\".format(param,value)\n",
    "    print \"Pearson:\"\n",
    "    print \"  r:\\t{:.2e}\".format(pearson[0])\n",
    "    print \"  p:\\t{:.2e}\".format(pearson[1])\n",
    "    \n",
    "    # Add fit to plot\n",
    "    xmin,xmax = (covar_df[covar_x].min(), covar_df[covar_x].max())\n",
    "    ymin,ymax = (covar_df[covar_y].min(), covar_df[covar_y].max())\n",
    "    ybot,ytop = (xmin*fitted[0]+fitted[1], xmax*fitted[0]+fitted[1])\n",
    "    plt.plot([xmin,xmax], [ybot,ytop], c='blue', lw=2, alpha=0.5)\n",
    "    \n",
    "    # Cosmetics and show\n",
    "    plt.xlim([xmin,xmax])\n",
    "    plt.ylim([ymin,ymax])\n",
    "    plt.show()"
   ]
  },
  {
   "cell_type": "code",
   "execution_count": null,
   "metadata": {},
   "outputs": [],
   "source": [
    "### Full pairwise correlation plot\n",
    "\n",
    "# Create the plot\n",
    "mclust = sns.clustermap(covar_df_z.corr(method='pearson'),\n",
    "                        figsize=(10, 10),\n",
    "                        cmap='RdBu')\n",
    "\n",
    "# Fix the y axis orientation\n",
    "mclust.ax_heatmap.set_yticklabels(mclust.ax_heatmap.get_yticklabels(),\n",
    "                                  rotation=0)\n",
    "\n",
    "# Other cosmetics\n",
    "mclust.ax_heatmap.set_title(\"Pairwise Correlations Cluster Plot\", y=1.275)\n",
    "plt.ylabel(\"Pearson\\nCorr. Coef.\")\n",
    "plt.show()"
   ]
  },
  {
   "cell_type": "markdown",
   "metadata": {},
   "source": [
    "<a id=covar_fspace></a>\n",
    "\n",
    "## 3. Covariate-Shape Relationships\n",
    "\n",
    "----"
   ]
  },
  {
   "cell_type": "markdown",
   "metadata": {},
   "source": [
    "### Covariate-Shape Correlations <a id=covar_fspace_correlations></a>"
   ]
  },
  {
   "cell_type": "code",
   "execution_count": null,
   "metadata": {},
   "outputs": [],
   "source": [
    "### Interactive linear fitting plot\n",
    "\n",
    "# Set interaction\n",
    "@widgets.interact(covar_x=covar_names, \n",
    "                  PC_y=range(1,fspace_pca.shape[1]+1))\n",
    "\n",
    "# Plotting function\n",
    "def corr_plot_covar(covar_x=covar_names[0], \n",
    "                    PC_y=1):\n",
    "    \n",
    "    # Prep\n",
    "    PC_y = int(PC_y)\n",
    "    plt.figure(figsize=(5,3))\n",
    "    \n",
    "    # Scatterplot\n",
    "    plt.scatter(covar_df[covar_x], fspace_pca[:, PC_y-1],\n",
    "                facecolor='darkred', edgecolor='',\n",
    "                s=5, alpha=0.5)\n",
    "    plt.xlabel(covar_x)\n",
    "    plt.ylabel(\"PC \"+str(PC_y))\n",
    "    \n",
    "    # Linear regression and pearson\n",
    "    fitted  = linregress(covar_df[covar_x], fspace_pca[:, PC_y-1])\n",
    "    pearson = pearsonr(covar_df[covar_x], fspace_pca[:, PC_y-1])\n",
    "    \n",
    "    # Report\n",
    "    print \"Linear regression:\"\n",
    "    for param,value in zip([\"slope\",\"intercept\",\"rvalue\",\"pvalue\",\"stderr\"], fitted):\n",
    "        print \"  {}:\\t{:.2e}\".format(param,value)\n",
    "    print \"Pearson:\"\n",
    "    print \"  r:\\t{:.2e}\".format(pearson[0])\n",
    "    print \"  p:\\t{:.2e}\".format(pearson[1])\n",
    "    \n",
    "    # Add fit to plot\n",
    "    xmin,xmax = (covar_df[covar_x].min(), covar_df[covar_x].max())\n",
    "    ymin,ymax = (fspace_pca[:, PC_y-1].min(), fspace_pca[:, PC_y-1].max())\n",
    "    ybot,ytop = (xmin*fitted[0]+fitted[1], xmax*fitted[0]+fitted[1])\n",
    "    plt.plot([xmin,xmax], [ybot,ytop], c='red', lw=2, alpha=0.5)\n",
    "    \n",
    "    # Cosmetics and show\n",
    "    plt.xlim([xmin,xmax])\n",
    "    plt.ylim([ymin,ymax])\n",
    "    plt.show()"
   ]
  },
  {
   "cell_type": "code",
   "execution_count": null,
   "metadata": {},
   "outputs": [],
   "source": [
    "### Selected linear fits\n",
    "\n",
    "# Settings for TFOR PC 3\n",
    "if 'TFOR' in dataset_suffix:\n",
    "    covar_x = 'Z Axis Length'\n",
    "    PC_y    = 3\n",
    "    x_reduc = 0\n",
    "    lbl_x   = 'TFOR PC 3'\n",
    "    lbl_y   = 'Z Axis Length\\n(Cell Height)'\n",
    "\n",
    "# Settings for CFOR PC 1\n",
    "if 'CFOR' in dataset_suffix:\n",
    "    covar_x = 'Sphericity'\n",
    "    PC_y    = 1\n",
    "    x_reduc = 2\n",
    "    lbl_x   = 'CFOR PC 1'\n",
    "    lbl_y   = 'Sphericity'\n",
    "\n",
    "# Prep\n",
    "plt.figure(figsize=(6,4))\n",
    "\n",
    "# Scatterplot\n",
    "plt.scatter(fspace_pca[:, PC_y-1], covar_df[covar_x],\n",
    "            facecolor='darkblue', edgecolor='',\n",
    "            s=5, alpha=0.25)\n",
    "plt.xlabel(covar_x)\n",
    "plt.ylabel(\"PC \"+str(PC_y))\n",
    "\n",
    "# Linear regression and pearson\n",
    "fitted  = linregress(fspace_pca[:, PC_y-1], covar_df[covar_x])\n",
    "pearson = pearsonr(fspace_pca[:, PC_y-1], covar_df[covar_x])\n",
    "\n",
    "# Report\n",
    "print \"Linear regression:\"\n",
    "for param,value in zip([\"slope\",\"intercept\",\"rvalue\",\"pvalue\",\"stderr\"], fitted):\n",
    "    print \"  {}:\\t{:.2e}\".format(param,value)\n",
    "print \"Pearson:\"\n",
    "print \"  r:\\t{:.2e}\".format(pearson[0])\n",
    "print \"  p:\\t{:.2e}\".format(pearson[1])\n",
    "\n",
    "# Add fit to plot\n",
    "ymin,ymax = (covar_df[covar_x].min(), covar_df[covar_x].max())\n",
    "xmin,xmax = (fspace_pca[:, PC_y-1].min()-x_reduc, fspace_pca[:, PC_y-1].max())\n",
    "ybot,ytop = (xmin*fitted[0]+fitted[1], xmax*fitted[0]+fitted[1])\n",
    "plt.plot([xmin,xmax], [ybot,ytop], c='black', lw=1, alpha=0.5)\n",
    "\n",
    "# Cosmetics\n",
    "plt.tick_params(axis='both', which='major', labelsize=16)\n",
    "plt.xlabel(lbl_x, fontsize=18)\n",
    "plt.ylabel(lbl_y, fontsize=18)\n",
    "plt.xlim([xmin,xmax])\n",
    "plt.ylim([ymin,ymax+0.05])\n",
    "plt.tight_layout()\n",
    "\n",
    "# Done\n",
    "plt.show()"
   ]
  },
  {
   "cell_type": "code",
   "execution_count": null,
   "metadata": {},
   "outputs": [],
   "source": [
    "### Full pairwise correlation plot \n",
    "\n",
    "# Prepare the pairwise correlation\n",
    "fspace_pca_z = (fspace_pca - fspace_pca.mean(axis=0)) / fspace_pca.std(axis=0)\n",
    "fspace_pca_z_df = pd.DataFrame(fspace_pca_z[:,:25])\n",
    "pairwise_corr = covar_df_z.expanding(axis=1).corr(fspace_pca_z_df, pairwise=True).iloc[-1, :, :]  # Ouf, pandas...\n",
    "\n",
    "# Create the plot\n",
    "mclust = sns.clustermap(pairwise_corr,\n",
    "                        figsize=(10, 10),\n",
    "                        col_cluster=False,\n",
    "                        cmap='RdBu')\n",
    "\n",
    "# Fix the y axis orientation\n",
    "mclust.ax_heatmap.set_yticklabels(mclust.ax_heatmap.get_yticklabels(),\n",
    "                                  rotation=0)\n",
    "\n",
    "# Other cosmetics\n",
    "mclust.ax_heatmap.set_title(\"Pairwise Correlations Cluster Plot\", y=1.275)\n",
    "mclust.ax_heatmap.set_xticklabels(range(1,fspace_pca_z_df.shape[1]+1))\n",
    "plt.ylabel(\"Pearson\\nCorr. Coef.\")\n",
    "\n",
    "# Done\n",
    "plt.show()"
   ]
  },
  {
   "cell_type": "markdown",
   "metadata": {},
   "source": [
    "### Covariate Relation Graph <a id=covar_fspace_graph></a>"
   ]
  },
  {
   "cell_type": "code",
   "execution_count": null,
   "metadata": {
    "scrolled": false
   },
   "outputs": [],
   "source": [
    "# Parameters\n",
    "num_PCs      = 8           # Number of PCs to include\n",
    "corr_measure = 'pearsonr'  # Correlation measure to use\n",
    "threshold    = 0.30        # Threshold to include a correlation as relevant\n",
    "\n",
    "# Get relevant data\n",
    "if corr_measure == 'pearsonr':\n",
    "    covar_fspace_dists = pairwise_corr.get_values()[:, :num_PCs]  # Retrieved from above!\n",
    "else:\n",
    "    raise NotImplementedError()\n",
    "\n",
    "# Generate the plot\n",
    "kp.covar_pc_bigraph(covar_fspace_dists, threshold, covar_names,\n",
    "                    height=0.6, verbose=True, show=False)\n",
    "\n",
    "# Done\n",
    "plt.show()"
   ]
  },
  {
   "cell_type": "markdown",
   "metadata": {},
   "source": [
    "----\n",
    "[back to top](#top)"
   ]
  }
 ],
 "metadata": {
  "kernelspec": {
   "display_name": "Python 2",
   "language": "python",
   "name": "python2"
  },
  "language_info": {
   "codemirror_mode": {
    "name": "ipython",
    "version": 2
   },
   "file_extension": ".py",
   "mimetype": "text/x-python",
   "name": "python",
   "nbconvert_exporter": "python",
   "pygments_lexer": "ipython2",
   "version": "2.7.13"
  },
  "widgets": {
   "state": {
    "399137269dde48b8be51885acfb2c42e": {
     "views": [
      {
       "cell_index": 29
      }
     ]
    },
    "83158cdf27ca4f47b9dd37751ae0ecc2": {
     "views": [
      {
       "cell_index": 16
      }
     ]
    },
    "867b68aa3d514bcdb7b079004efd78e4": {
     "views": [
      {
       "cell_index": 21
      }
     ]
    },
    "e1fa5e8e3aa640e6994f8d52ef280e4f": {
     "views": [
      {
       "cell_index": 17
      }
     ]
    },
    "e4d004b4b7fc40ada3e5c21207856cff": {
     "views": [
      {
       "cell_index": 19
      }
     ]
    },
    "fadbca47d04c4d9a95d2dbb9f9e9700e": {
     "views": [
      {
       "cell_index": 23
      }
     ]
    }
   },
   "version": "1.2.0"
  }
 },
 "nbformat": 4,
 "nbformat_minor": 2
}
